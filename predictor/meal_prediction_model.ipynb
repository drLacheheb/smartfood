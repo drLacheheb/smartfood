{
 "cells": [
  {
   "cell_type": "code",
   "execution_count": 1,
   "metadata": {},
   "outputs": [],
   "source": [
    "import os\n",
    "import pandas as pd\n",
    "import numpy as np\n",
    "from sklearn.model_selection import train_test_split\n",
    "from sklearn.preprocessing import StandardScaler\n",
    "from sklearn.metrics import mean_absolute_error, mean_squared_error, r2_score\n",
    "import xgboost as xgb\n",
    "import pickle"
   ]
  },
  {
   "cell_type": "code",
   "execution_count": 2,
   "metadata": {},
   "outputs": [],
   "source": [
    "class MealPredictionSystem:\n",
    "    def __init__(self, data_path='sources/meal_counts.csv'):\n",
    "        self.data = pd.read_csv(data_path)\n",
    "        self.data['date'] = pd.to_datetime(self.data['date'])\n",
    "        self.scaler = StandardScaler()\n",
    "        \n",
    "    def prepare_features(self, target='lunch_meals'):\n",
    "        \"\"\"Prepare features for ML models.\"\"\"\n",
    "        features = [\n",
    "            'bus_riders', 'bus_riders_1days_ago', 'bus_riders_2days_ago', 'bus_riders_3days_ago',\n",
    "            'lunch_meals_1days_ago', 'lunch_meals_2days_ago', 'lunch_meals_3days_ago',\n",
    "            'dinner_meals_1days_ago', 'dinner_meals_2days_ago', 'dinner_meals_3days_ago',\n",
    "            'day_of_week', 'month'\n",
    "        ]\n",
    "        \n",
    "        X = self.data[features]\n",
    "        y = self.data[target]\n",
    "        \n",
    "        # Convert day_of_week to cyclical features\n",
    "        X['day_sin'] = np.sin(2 * np.pi * X['day_of_week']/7)\n",
    "        X['day_cos'] = np.cos(2 * np.pi * X['day_of_week']/7)\n",
    "        \n",
    "        # Convert month to cyclical features\n",
    "        X['month_sin'] = np.sin(2 * np.pi * X['month']/12)\n",
    "        X['month_cos'] = np.cos(2 * np.pi * X['month']/12)\n",
    "        \n",
    "        # Drop original day_of_week and month\n",
    "        X = X.drop(['day_of_week', 'month'], axis=1)\n",
    "        \n",
    "        return X, y\n",
    "    \n",
    "    def train_xgboost(self, target='lunch_meals', is_load=False):\n",
    "        \"\"\"Train XGBoost model.\"\"\"\n",
    "        X, y = self.prepare_features(target)\n",
    "        X_train, X_test, y_train, y_test = train_test_split(X, y, test_size=0.2, random_state=42)\n",
    "        model = None\n",
    "        \n",
    "        if is_load and os.path.isfile(f'models/{target}_xg.pkl'):\n",
    "            model = pickle.load(f'models/{target}_xg.pkl')\n",
    "        else:\n",
    "            model = xgb.XGBRegressor(\n",
    "                n_estimators=100,\n",
    "                learning_rate=0.1,\n",
    "                max_depth=5,\n",
    "                random_state=42\n",
    "            )\n",
    "        \n",
    "        model.fit(X_train, y_train)\n",
    "        pickle.dump(model, open(f'models/{target}_xg.pkl', 'wb'))\n",
    "        \n",
    "        # Make predictions\n",
    "        y_pred = model.predict(X_test)\n",
    "        \n",
    "        # Calculate metrics\n",
    "        metrics = {\n",
    "            'mae': mean_absolute_error(y_test, y_pred),\n",
    "            'rmse': np.sqrt(mean_squared_error(y_test, y_pred)),\n",
    "            'r2': r2_score(y_test, y_pred)\n",
    "        }\n",
    "        \n",
    "        return model, metrics"
   ]
  },
  {
   "cell_type": "code",
   "execution_count": 6,
   "metadata": {},
   "outputs": [
    {
     "name": "stdout",
     "output_type": "stream",
     "text": [
      "Training XGBoost model...\n"
     ]
    },
    {
     "name": "stderr",
     "output_type": "stream",
     "text": [
      "C:\\Users\\Slash\\AppData\\Local\\Temp\\ipykernel_20444\\3165472937.py:20: SettingWithCopyWarning: \n",
      "A value is trying to be set on a copy of a slice from a DataFrame.\n",
      "Try using .loc[row_indexer,col_indexer] = value instead\n",
      "\n",
      "See the caveats in the documentation: https://pandas.pydata.org/pandas-docs/stable/user_guide/indexing.html#returning-a-view-versus-a-copy\n",
      "  X['day_sin'] = np.sin(2 * np.pi * X['day_of_week']/7)\n",
      "C:\\Users\\Slash\\AppData\\Local\\Temp\\ipykernel_20444\\3165472937.py:21: SettingWithCopyWarning: \n",
      "A value is trying to be set on a copy of a slice from a DataFrame.\n",
      "Try using .loc[row_indexer,col_indexer] = value instead\n",
      "\n",
      "See the caveats in the documentation: https://pandas.pydata.org/pandas-docs/stable/user_guide/indexing.html#returning-a-view-versus-a-copy\n",
      "  X['day_cos'] = np.cos(2 * np.pi * X['day_of_week']/7)\n",
      "C:\\Users\\Slash\\AppData\\Local\\Temp\\ipykernel_20444\\3165472937.py:24: SettingWithCopyWarning: \n",
      "A value is trying to be set on a copy of a slice from a DataFrame.\n",
      "Try using .loc[row_indexer,col_indexer] = value instead\n",
      "\n",
      "See the caveats in the documentation: https://pandas.pydata.org/pandas-docs/stable/user_guide/indexing.html#returning-a-view-versus-a-copy\n",
      "  X['month_sin'] = np.sin(2 * np.pi * X['month']/12)\n"
     ]
    },
    {
     "name": "stdout",
     "output_type": "stream",
     "text": [
      "XGBoost Metrics: {'mae': 30.030303955078125, 'rmse': 37.221154020806836, 'r2': 0.6643193960189819}\n",
      "Train completed\n"
     ]
    }
   ],
   "source": [
    "predictor = MealPredictionSystem()\n",
    "    \n",
    "# Train and evaluate XGBoost\n",
    "print(\"Training XGBoost model...\")\n",
    "xgb_model, xgb_metrics = predictor.train_xgboost(target='lunch_meals')\n",
    "print(\"XGBoost Metrics:\", xgb_metrics)\n",
    "\n",
    "xgb_model, xgb_metrics = predictor.train_xgboost(target='dinner_meals')\n",
    "print(\"XGBoost Metrics:\", xgb_metrics)\n",
    "\n",
    "print(\"Train completed\")"
   ]
  },
  {
   "cell_type": "code",
   "execution_count": null,
   "metadata": {},
   "outputs": [],
   "source": []
  }
 ],
 "metadata": {
  "kernelspec": {
   "display_name": "Python 3",
   "language": "python",
   "name": "python3"
  },
  "language_info": {
   "codemirror_mode": {
    "name": "ipython",
    "version": 3
   },
   "file_extension": ".py",
   "mimetype": "text/x-python",
   "name": "python",
   "nbconvert_exporter": "python",
   "pygments_lexer": "ipython3",
   "version": "3.12.0"
  }
 },
 "nbformat": 4,
 "nbformat_minor": 2
}
